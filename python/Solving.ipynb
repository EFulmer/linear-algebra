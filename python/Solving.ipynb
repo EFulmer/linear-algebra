{
 "cells": [
  {
   "cell_type": "markdown",
   "id": "95b27134",
   "metadata": {},
   "source": [
    "# Solving linear equations playground notebook\n",
    "\n",
    "The purpose of this notebook is to experiment with solving systems of linear equations using `sympy` primitives. I wrote it and present it in an iterative, exploratory fashion. "
   ]
  },
  {
   "cell_type": "code",
   "execution_count": 4,
   "id": "3fdbedee",
   "metadata": {},
   "outputs": [],
   "source": [
    "import sympy\n",
    "from sympy.abc import x, y, z\n",
    "\n",
    "sympy.init_printing(use_unicode=True)"
   ]
  },
  {
   "cell_type": "code",
   "execution_count": 6,
   "id": "d06c1b69",
   "metadata": {},
   "outputs": [
    {
     "data": {
      "image/png": "[encoded data removed]",
      "text/latex": [
       "$\\displaystyle \\left[ x - 2 y = 1, \\  3 x + 2 y = 11\\right]$"
      ],
      "text/plain": [
       "[x - 2⋅y = 1, 3⋅x + 2⋅y = 11]"
      ]
     },
     "execution_count": 6,
     "metadata": {},
     "output_type": "execute_result"
    }
   ],
   "source": [
    "equations_1 = [\n",
    "    sympy.Eq(x - 2*y, 1),\n",
    "    sympy.Eq(3*x + 2*y, 11),\n",
    "]\n",
    "equations_1"
   ]
  },
  {
   "cell_type": "code",
   "execution_count": 8,
   "id": "be60dc41",
   "metadata": {},
   "outputs": [
    {
     "data": {
      "image/png": "[encoded data removed]",
      "text/latex": [
       "$\\displaystyle \\left\\{ x : 3, \\  y : 1\\right\\}$"
      ],
      "text/plain": [
       "{x: 3, y: 1}"
      ]
     },
     "execution_count": 8,
     "metadata": {},
     "output_type": "execute_result"
    }
   ],
   "source": [
    "sympy.solve(equations_1, [x, y])"
   ]
  },
  {
   "cell_type": "code",
   "execution_count": 9,
   "id": "825dfb28",
   "metadata": {},
   "outputs": [],
   "source": [
    "from typing import Any, List\n",
    "\n",
    "def pivot_1(equations: List[Any]) -> List[Any]:\n",
    "    pass"
   ]
  },
  {
   "cell_type": "code",
   "execution_count": 10,
   "id": "c3773481",
   "metadata": {},
   "outputs": [],
   "source": [
    "e_1_1 = equations_1[0]"
   ]
  },
  {
   "cell_type": "code",
   "execution_count": 11,
   "id": "1e2f043a",
   "metadata": {},
   "outputs": [
    {
     "data": {
      "image/png": "[encoded data removed]",
      "text/latex": [
       "$\\displaystyle x - 2 y = 1$"
      ],
      "text/plain": [
       "x - 2⋅y = 1"
      ]
     },
     "execution_count": 11,
     "metadata": {},
     "output_type": "execute_result"
    }
   ],
   "source": [
    "e_1_1"
   ]
  },
  {
   "cell_type": "code",
   "execution_count": 13,
   "id": "e4b87615",
   "metadata": {},
   "outputs": [
    {
     "data": {
      "image/png": "[encoded data removed]",
      "text/latex": [
       "$\\displaystyle x - 2 y$"
      ],
      "text/plain": [
       "x - 2⋅y"
      ]
     },
     "execution_count": 13,
     "metadata": {},
     "output_type": "execute_result"
    }
   ],
   "source": [
    "e_1_1.lhs"
   ]
  },
  {
   "cell_type": "code",
   "execution_count": 17,
   "id": "f3e66946",
   "metadata": {},
   "outputs": [
    {
     "data": {
      "image/png": "[encoded data removed]",
      "text/latex": [
       "$\\displaystyle 1$"
      ],
      "text/plain": [
       "1"
      ]
     },
     "execution_count": 17,
     "metadata": {},
     "output_type": "execute_result"
    }
   ],
   "source": [
    "e_1_1.lhs.coeff(x)"
   ]
  },
  {
   "cell_type": "code",
   "execution_count": 18,
   "id": "684f91ce",
   "metadata": {},
   "outputs": [
    {
     "data": {
      "image/png": "[encoded data removed]",
      "text/latex": [
       "$\\displaystyle 0$"
      ],
      "text/plain": [
       "0"
      ]
     },
     "execution_count": 18,
     "metadata": {},
     "output_type": "execute_result"
    }
   ],
   "source": [
    "e_1_1.lhs.coeff(z)"
   ]
  },
  {
   "cell_type": "code",
   "execution_count": 20,
   "id": "a33b0dd5",
   "metadata": {},
   "outputs": [
    {
     "data": {
      "image/png": "[encoded data removed]",
      "text/latex": [
       "$\\displaystyle x - 2 y$"
      ],
      "text/plain": [
       "x - 2⋅y"
      ]
     },
     "execution_count": 20,
     "metadata": {},
     "output_type": "execute_result"
    }
   ],
   "source": [
    "e_1_1.lhs.doit()"
   ]
  },
  {
   "cell_type": "code",
   "execution_count": 21,
   "id": "4cb48ae5",
   "metadata": {},
   "outputs": [
    {
     "data": {
      "image/png": "[encoded data removed]",
      "text/latex": [
       "$\\displaystyle 3 x + 2 y = 11$"
      ],
      "text/plain": [
       "3⋅x + 2⋅y = 11"
      ]
     },
     "execution_count": 21,
     "metadata": {},
     "output_type": "execute_result"
    }
   ],
   "source": [
    "e_1_2 = equations_1[1]\n",
    "e_1_2"
   ]
  },
  {
   "cell_type": "code",
   "execution_count": 22,
   "id": "56b12b49",
   "metadata": {},
   "outputs": [
    {
     "data": {
      "image/png": "[encoded data removed]",
      "text/latex": [
       "$\\displaystyle \\frac{1}{3}$"
      ],
      "text/plain": [
       "1/3"
      ]
     },
     "execution_count": 22,
     "metadata": {},
     "output_type": "execute_result"
    }
   ],
   "source": [
    "e_1_1.lhs.coeff(x) / e_1_2.lhs.coeff(x)"
   ]
  },
  {
   "cell_type": "code",
   "execution_count": 23,
   "id": "b3106c3a",
   "metadata": {},
   "outputs": [],
   "source": [
    "pivot_1 = e_1_1.lhs.coeff(x) / e_1_2.lhs.coeff(x)"
   ]
  },
  {
   "cell_type": "code",
   "execution_count": 26,
   "id": "78ee9195",
   "metadata": {},
   "outputs": [
    {
     "data": {
      "image/png": "[encoded data removed]",
      "text/latex": [
       "$\\displaystyle x + \\frac{2 y}{3}$"
      ],
      "text/plain": [
       "    2⋅y\n",
       "x + ───\n",
       "     3 "
      ]
     },
     "execution_count": 26,
     "metadata": {},
     "output_type": "execute_result"
    }
   ],
   "source": [
    "pivot_1 * e_1_2.lhs"
   ]
  },
  {
   "cell_type": "code",
   "execution_count": 28,
   "id": "efaa081c",
   "metadata": {},
   "outputs": [
    {
     "ename": "TypeError",
     "evalue": "Relational cannot be used in Mul",
     "output_type": "error",
     "traceback": [
      "\u001b[0;31m---------------------------------------------------------------------------\u001b[0m",
      "\u001b[0;31mTypeError\u001b[0m                                 Traceback (most recent call last)",
      "Cell \u001b[0;32mIn[28], line 1\u001b[0m\n\u001b[0;32m----> 1\u001b[0m \u001b[43msympy\u001b[49m\u001b[38;5;241;43m.\u001b[39;49m\u001b[43mMul\u001b[49m\u001b[43m(\u001b[49m\u001b[43mpivot_1\u001b[49m\u001b[43m,\u001b[49m\u001b[43m \u001b[49m\u001b[43me_1_2\u001b[49m\u001b[43m)\u001b[49m\n",
      "File \u001b[0;32m~/.cache/pypoetry/virtualenvs/linear-algebra-pdghZUB5-py3.10/lib/python3.10/site-packages/sympy/core/cache.py:72\u001b[0m, in \u001b[0;36m__cacheit.<locals>.func_wrapper.<locals>.wrapper\u001b[0;34m(*args, **kwargs)\u001b[0m\n\u001b[1;32m     69\u001b[0m \u001b[38;5;129m@wraps\u001b[39m(func)\n\u001b[1;32m     70\u001b[0m \u001b[38;5;28;01mdef\u001b[39;00m \u001b[38;5;21mwrapper\u001b[39m(\u001b[38;5;241m*\u001b[39margs, \u001b[38;5;241m*\u001b[39m\u001b[38;5;241m*\u001b[39mkwargs):\n\u001b[1;32m     71\u001b[0m     \u001b[38;5;28;01mtry\u001b[39;00m:\n\u001b[0;32m---> 72\u001b[0m         retval \u001b[38;5;241m=\u001b[39m \u001b[43mcfunc\u001b[49m\u001b[43m(\u001b[49m\u001b[38;5;241;43m*\u001b[39;49m\u001b[43margs\u001b[49m\u001b[43m,\u001b[49m\u001b[43m \u001b[49m\u001b[38;5;241;43m*\u001b[39;49m\u001b[38;5;241;43m*\u001b[39;49m\u001b[43mkwargs\u001b[49m\u001b[43m)\u001b[49m\n\u001b[1;32m     73\u001b[0m     \u001b[38;5;28;01mexcept\u001b[39;00m \u001b[38;5;167;01mTypeError\u001b[39;00m \u001b[38;5;28;01mas\u001b[39;00m e:\n\u001b[1;32m     74\u001b[0m         \u001b[38;5;28;01mif\u001b[39;00m \u001b[38;5;129;01mnot\u001b[39;00m e\u001b[38;5;241m.\u001b[39margs \u001b[38;5;129;01mor\u001b[39;00m \u001b[38;5;129;01mnot\u001b[39;00m e\u001b[38;5;241m.\u001b[39margs[\u001b[38;5;241m0\u001b[39m]\u001b[38;5;241m.\u001b[39mstartswith(\u001b[38;5;124m'\u001b[39m\u001b[38;5;124munhashable type:\u001b[39m\u001b[38;5;124m'\u001b[39m):\n",
      "File \u001b[0;32m~/.cache/pypoetry/virtualenvs/linear-algebra-pdghZUB5-py3.10/lib/python3.10/site-packages/sympy/core/operations.py:64\u001b[0m, in \u001b[0;36mAssocOp.__new__\u001b[0;34m(cls, evaluate, _sympify, *args)\u001b[0m\n\u001b[1;32m     62\u001b[0m \u001b[38;5;28;01mfrom\u001b[39;00m \u001b[38;5;21;01m.\u001b[39;00m\u001b[38;5;21;01mrelational\u001b[39;00m \u001b[38;5;28;01mimport\u001b[39;00m Relational\n\u001b[1;32m     63\u001b[0m \u001b[38;5;28;01mif\u001b[39;00m \u001b[38;5;28many\u001b[39m(\u001b[38;5;28misinstance\u001b[39m(arg, Relational) \u001b[38;5;28;01mfor\u001b[39;00m arg \u001b[38;5;129;01min\u001b[39;00m args):\n\u001b[0;32m---> 64\u001b[0m     \u001b[38;5;28;01mraise\u001b[39;00m \u001b[38;5;167;01mTypeError\u001b[39;00m(\u001b[38;5;124m\"\u001b[39m\u001b[38;5;124mRelational cannot be used in \u001b[39m\u001b[38;5;132;01m%s\u001b[39;00m\u001b[38;5;124m\"\u001b[39m \u001b[38;5;241m%\u001b[39m \u001b[38;5;28mcls\u001b[39m\u001b[38;5;241m.\u001b[39m\u001b[38;5;18m__name__\u001b[39m)\n\u001b[1;32m     66\u001b[0m \u001b[38;5;66;03m# This should raise TypeError once deprecation period is over:\u001b[39;00m\n\u001b[1;32m     67\u001b[0m \u001b[38;5;28;01mfor\u001b[39;00m arg \u001b[38;5;129;01min\u001b[39;00m args:\n",
      "\u001b[0;31mTypeError\u001b[0m: Relational cannot be used in Mul"
     ]
    }
   ],
   "source": [
    "sympy.Mul(pivot_1, e_1_2)"
   ]
  },
  {
   "cell_type": "code",
   "execution_count": 31,
   "id": "4feaf99b",
   "metadata": {},
   "outputs": [
    {
     "data": {
      "image/png": "[encoded data removed]",
      "text/latex": [
       "$\\displaystyle \\frac{1}{3}$"
      ],
      "text/plain": [
       "1/3"
      ]
     },
     "execution_count": 31,
     "metadata": {},
     "output_type": "execute_result"
    }
   ],
   "source": [
    "def pivot_1(equations):\n",
    "    \"\"\"Figure out the first pivot, for x (or x_1 if you consider x as a vector of unknowns), in the second equation.\n",
    "    \n",
    "    Assumptions made:\n",
    "        * the coefficient of x is nonzero in the second equation\n",
    "            (if this is the case, it might require a row exchange?)\n",
    "        * there's at least two equations\n",
    "        * the unknown is named x\n",
    "    \"\"\"\n",
    "    return equations[0].lhs.coeff(x) / equations[1].lhs.coeff(x)\n",
    "\n",
    "pivot_1(equations_1)"
   ]
  },
  {
   "cell_type": "code",
   "execution_count": null,
   "id": "ee676d24",
   "metadata": {},
   "outputs": [],
   "source": []
  }
 ],
 "metadata": {
  "kernelspec": {
   "display_name": "Python 3 (ipykernel)",
   "language": "python",
   "name": "python3"
  },
  "language_info": {
   "codemirror_mode": {
    "name": "ipython",
    "version": 3
   },
   "file_extension": ".py",
   "mimetype": "text/x-python",
   "name": "python",
   "nbconvert_exporter": "python",
   "pygments_lexer": "ipython3",
   "version": "3.10.6"
  }
 },
 "nbformat": 4,
 "nbformat_minor": 5
}
